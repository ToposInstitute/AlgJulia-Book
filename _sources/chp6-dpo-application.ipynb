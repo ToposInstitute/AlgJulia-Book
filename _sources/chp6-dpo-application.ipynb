{
 "cells": [
  {
   "cell_type": "markdown",
   "id": "7d4ccdf9",
   "metadata": {},
   "source": [
    "# Chapter 6: Double-Pushout Rewriting Examples"
   ]
  }
 ],
 "metadata": {
  "jupytext": {
   "formats": "md:myst",
   "text_representation": {
    "extension": ".md",
    "format_name": "myst"
   }
  },
  "kernelspec": {
   "display_name": "Julia 1.10",
   "language": "julia",
   "name": "julia-1.10"
  },
  "source_map": [
   11
  ]
 },
 "nbformat": 4,
 "nbformat_minor": 5
}