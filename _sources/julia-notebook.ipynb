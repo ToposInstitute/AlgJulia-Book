{
 "cells": [
  {
   "cell_type": "markdown",
   "id": "21affae9",
   "metadata": {},
   "source": [
    "# Sample Markdown with Code\n",
    "\n",
    "The kernel runs **Julia 1.10.0**\n",
    "\n",
    "**Installed Packages:** graphviz\n",
    "\n",
    "**Supported Julia libraries:** \\\n",
    "AlgebraicDynamics v0.2.2\n",
    "AlgebraicRewriting v0.3.0\n",
    "Catlab v0.16.5\n",
    "LabelledArrays v1.15.0\n",
    "OrdinaryDiffEq v6.66.0\n",
    "Plots v1.40.0\n",
    "PrettyTables v2.3.1\n",
    "SciMLBase v2.10.0\n",
    "\n",
    "Each of the code blocks are editable"
   ]
  },
  {
   "cell_type": "markdown",
   "id": "084f071f",
   "metadata": {},
   "source": [
    "## How to run the code in this page?\n",
    "\n",
    "This page allows live code execution. To run the code below, click the \"rocket icon\" at the top right corner of this page, and select \"Live code\". This will invoke a pre-configured kernel from mybinder.org. Configuration details given above. \n",
    "\n",
    ":::{note}\n",
    "The kernel may take sometime to build !! \n",
    ":::\n",
    "\n",
    "If you would like to see the detailed status of the kernel invokation, select \"Binder\" under the rocket icon."
   ]
  },
  {
   "cell_type": "markdown",
   "id": "f0e86d24",
   "metadata": {},
   "source": [
    "## Julia code"
   ]
  },
  {
   "cell_type": "code",
   "execution_count": null,
   "id": "7e55d21a",
   "metadata": {},
   "outputs": [],
   "source": [
    "my_hidden_variable = \"Testing Julia!\"\n",
    "print( my_hidden_variable )"
   ]
  },
  {
   "cell_type": "markdown",
   "id": "a309b684",
   "metadata": {},
   "source": [
    "## Drawing directed wiring diagrams\n",
    "\n",
    "The below code generates a directed wiring diagram with two boxes each with one input and one output. The output of one each box is connected to the other."
   ]
  },
  {
   "cell_type": "code",
   "execution_count": null,
   "id": "caa4ffc6",
   "metadata": {},
   "outputs": [],
   "source": [
    "# Example directed wiring diagram\n",
    "\n",
    "using Catlab.WiringDiagrams, Catlab.Programs, Catlab.Graphics\n",
    "\n",
    "mood_pattern = WiringDiagram([], [:friend1_mood, :friend2_mood])\n",
    "friend_1_box = add_box!(mood_pattern, Box(:friend1, [:my_mood], [:external_mood]))\n",
    "friend_2_box = add_box!(mood_pattern, Box(:friend2, [:my_mood], [:external_mood]))\n",
    "\n",
    "add_wires!(mood_pattern, Pair[\n",
    "    (friend_1_box, 1) => (friend_2_box, 1),\n",
    "    (friend_2_box, 1)    => (friend_1_box, 1),\n",
    "    (friend_1_box, 1) => (output_id(mood_pattern), 1),\n",
    "    (friend_2_box, 1)    => (output_id(mood_pattern), 2)\n",
    "])\n",
    "\n",
    "# Displaying the Directed Wiring Diagram using graphviz\n",
    "\n",
    "draw(d::WiringDiagram; labels=true) = to_graphviz(d,\n",
    "  orientation=LeftToRight,\n",
    "  labels=labels, label_attr=:xlabel\n",
    ")\n",
    "\n",
    "draw(mood_pattern, labels=true)"
   ]
  },
  {
   "cell_type": "markdown",
   "id": "1f5b3df0",
   "metadata": {},
   "source": [
    "## Drawing undirected wiring diagrams\n",
    "\n",
    "The following code generates a UWD of Rabbit-Fox predation"
   ]
  },
  {
   "cell_type": "markdown",
   "id": "1babfc31",
   "metadata": {},
   "source": [
    "The following code draws UWD using Graphviz library"
   ]
  },
  {
   "cell_type": "code",
   "execution_count": null,
   "id": "3ee87321",
   "metadata": {},
   "outputs": [],
   "source": [
    "# Example undirected wiring diagram \n",
    "using Catlab.WiringDiagrams, Catlab.Programs, Catlab.Graphics\n",
    "\n",
    "# Define the composition pattern\n",
    "rf = @relation (rabbits,foxes) begin\n",
    "    growth(rabbits) # box_name(junction_name)\n",
    "    predation(rabbits,foxes)\n",
    "    decline(foxes)\n",
    "end\n",
    "\n",
    "# Displaying the undirected Wiring Diagram\n",
    "to_graphviz(rf, box_labels=:name, junction_labels=:variable)"
   ]
  },
  {
   "cell_type": "markdown",
   "id": "77f1c338",
   "metadata": {},
   "source": [
    "Try your own code in the block below:"
   ]
  },
  {
   "cell_type": "code",
   "execution_count": null,
   "id": "da5bb745",
   "metadata": {},
   "outputs": [],
   "source": [
    "# Put code here"
   ]
  }
 ],
 "metadata": {
  "jupytext": {
   "formats": "md:myst",
   "text_representation": {
    "extension": ".md",
    "format_name": "myst"
   }
  },
  "kernelspec": {
   "display_name": "Julia 1.10",
   "language": "julia",
   "name": "julia-1.10"
  },
  "source_map": [
   11,
   31,
   43,
   49,
   54,
   62,
   88,
   94,
   100,
   115,
   121
  ]
 },
 "nbformat": 4,
 "nbformat_minor": 5
}