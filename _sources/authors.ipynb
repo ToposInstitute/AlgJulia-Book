{
 "cells": [
  {
   "cell_type": "markdown",
   "id": "624d11fc",
   "metadata": {},
   "source": [
    "# Authors\n",
    "\n",
    ":::{admonition} Angeline Aguinaldo\n",
    ":class: tip\n",
    "\n",
    "</br>\n",
    "\n",
    "```{image} assets/authors/Angeline.png\n",
    ":alt: Whoopsy!\n",
    ":width: 150px\n",
    ":align: right\n",
    "```\n",
    "Lorem ipsum dolor sit amet, consectetur adipiscing elit, sed do eiusmod tempor incididunt ut labore et dolore magna aliqua. Ut enim ad minim veniam, quis nostrud exercitation ullamco laboris nisi ut aliquip ex ea commodo consequat. Duis aute irure dolor in reprehenderit in voluptate velit esse cillum dolore eu fugiat nulla pariatur. \n",
    "\n",
    ":::\n",
    "\n",
    "\n",
    ":::{admonition} Paul Dancstep\n",
    ":class: tip\n",
    "\n",
    "</br>\n",
    "\n",
    "```{image} assets/authors/Paul.png\n",
    ":alt: Whoopsy!\n",
    ":width: 150px\n",
    ":align: left\n",
    "```\n",
    "Paul Dancstep is a right handed person who likes to do the dishes every other day. He has an initial mood of around 3 and a calmdown rate of probably 5% or so. He enjoys trying to come up with visualizations and explanations for abstract concepts and is optimistic that tools from applied category theory will have a role to play in human flourishing in the 21st century.\n",
    "\n",
    ":::\n",
    "\n",
    ":::{admonition} Brendan Fong\n",
    ":class: tip\n",
    "\n",
    "</br>\n",
    "\n",
    "```{image} assets/authors/Brendan.png\n",
    ":alt: Whoopsy!\n",
    ":width: 150px\n",
    ":align: right\n",
    "```\n",
    "Lorem ipsum dolor sit amet, consectetur adipiscing elit, sed do eiusmod tempor incididunt ut labore et dolore magna aliqua. Ut enim ad minim veniam, quis nostrud exercitation ullamco laboris nisi ut aliquip ex ea commodo consequat. Duis aute irure dolor in reprehenderit in voluptate velit esse cillum dolore eu fugiat nulla pariatur. \n",
    ":::\n",
    "\n",
    ":::{admonition} Priyaa Varshinee Srinivasan\n",
    ":class: tip\n",
    "\n",
    "</br>\n",
    "\n",
    "```{image} assets/authors/Priyaa.png\n",
    ":alt: Whoopsy!\n",
    ":width: 150px\n",
    ":align: left\n",
    "```\n",
    "Lorem ipsum dolor sit amet, consectetur adipiscing elit, sed do eiusmod tempor incididunt ut labore et dolore magna aliqua. Ut enim ad minim veniam, quis nostrud exercitation ullamco laboris nisi ut aliquip ex ea commodo consequat. Duis aute irure dolor in reprehenderit in voluptate velit esse cillum dolore eu fugiat nulla pariatur. \n",
    ":::"
   ]
  }
 ],
 "metadata": {
  "jupytext": {
   "formats": "md:myst",
   "text_representation": {
    "extension": ".md",
    "format_name": "myst"
   }
  },
  "kernelspec": {
   "display_name": "Julia 1.10",
   "language": "julia",
   "name": "julia-1.10"
  },
  "source_map": [
   11
  ]
 },
 "nbformat": 4,
 "nbformat_minor": 5
}