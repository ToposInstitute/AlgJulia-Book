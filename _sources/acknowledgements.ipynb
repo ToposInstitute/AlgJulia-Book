{
 "cells": [
  {
   "cell_type": "markdown",
   "id": "14df5564",
   "metadata": {},
   "source": [
    "# Credits\n",
    "\n",
    "This work has been made possible by a grant from the [Mozilla Internet Ecosystem (MIECO) Program](https://future.mozilla.org/mieco/), to advance the future of the internet, and ensure it remains a force for good. Topos Institute is grateful for their support.\n",
    "\n",
    "```{image} assets/Credits/Mozilla-Topos.png\n",
    ":alt: Whoopsy!\n",
    ":width: 550px\n",
    ":align: center\n",
    "```\n",
    "\n",
    "**People**\n",
    "\n",
    "This work would not have been possible without the support of the Algebraic Julia team at the Topos Institute! A million thanks to each one of  them!\n",
    "\n",
    "The authors thank Evan for guiding setting up live code execution, Kris coded up solutions for chapters 5 and 6, Owen for discussions on stand-alone code execution! \n",
    "\n",
    "Priyaa personally thanks David for drafting an initial schedule for the project and helping setting up the initial theme of the book! \n",
    "\n",
    "**Behind the scenes**\n",
    "\n",
    "This book is an experimental project, one of its kind in trying to use the modern features of technology to convey category theory concepts to a general science audience. The authors had to make lots of design decisions to honor the limits of technology, to have the book open source, and above all to keep the content light, fun, and useful! \n",
    "\n",
    "Here are a few pictures we clicked during our group writing retreats!\n",
    "\n",
    "\n",
    "```{image} assets/Credits/Paul-hard-at-work.jpg\n",
    ":alt: Whoopsy!\n",
    ":width: 450px\n",
    ":align: center\n",
    "```\n",
    "<center> <em> Paul hard at work </em> </center>"
   ]
  }
 ],
 "metadata": {
  "jupytext": {
   "formats": "md:myst",
   "text_representation": {
    "extension": ".md",
    "format_name": "myst"
   }
  },
  "kernelspec": {
   "display_name": "Julia 1.10",
   "language": "julia",
   "name": "julia-1.10"
  },
  "source_map": [
   11
  ]
 },
 "nbformat": 4,
 "nbformat_minor": 5
}