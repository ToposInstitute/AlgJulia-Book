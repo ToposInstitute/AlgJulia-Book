{
 "cells": [
  {
   "cell_type": "markdown",
   "id": "88959cda",
   "metadata": {},
   "source": [
    "# Acknowledgements"
   ]
  }
 ],
 "metadata": {
  "jupytext": {
   "formats": "md:myst",
   "text_representation": {
    "extension": ".md",
    "format_name": "myst"
   }
  },
  "kernelspec": {
   "display_name": "Julia 1.10",
   "language": "julia",
   "name": "julia-1.10"
  },
  "source_map": [
   11
  ]
 },
 "nbformat": 4,
 "nbformat_minor": 5
}