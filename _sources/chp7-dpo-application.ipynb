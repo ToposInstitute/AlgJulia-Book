{
 "cells": [
  {
   "cell_type": "markdown",
   "id": "0c10749d",
   "metadata": {},
   "source": [
    "# Chapter 7: Double-Pushout Rewriting Applications\n",
    "\n",
    "As we have seen, Double-pushout (DPO) rewriting is a concept that gives us access to the feature of adding and deleting elements in our data. At its core, DPO rewriting involves the use of two pushout diagrams in the $\\mathsf{C}$-Set category that transforms one $\\mathsf{C}$-Set object to another. This process can model a wide range of changes in schema-backed data, from the reconfiguration of physical objects to transformations in world knowledge.\n",
    "\n",
    "## Example 1: Cube Configuration\n",
    "Consider a scenario where the index category, $\\mathsf{C}$, represents the schema for a cube, comprising three fundamental objects: `Face`, `Edge`, `Vertex`. This schema is enriched with six non-identity morphisms: `top`, `bottom`, `left`, `right`, `src`, `tgt`, which define the relationships between these objects. DPO rewriting in this context can model various transformations in the cube's configuration, akin to unfolding a cardboard box. \n",
    "\n",
    "This can be expressed as a schema in AlgebraicJulia as follows:"
   ]
  },
  {
   "cell_type": "code",
   "execution_count": null,
   "id": "0d93b3cb",
   "metadata": {},
   "outputs": [],
   "source": [
    "@present Sch3DShape(FreeSchema) begin\n",
    "  Face::Ob\n",
    "  Edge::Ob\n",
    "  Vertex::Ob\n",
    "\n",
    "  top::Hom(Face, Edge)\n",
    "  right::Hom(Face, Edge)\n",
    "  bottom::Hom(Face, Edge)\n",
    "  left::Hom(Face, Edge)\n",
    "\n",
    "  src::Hom(Edge, Vertex)\n",
    "  tgt::Hom(Edge, Vertex)\n",
    "end\n",
    "to_graphviz(Sch3DShape)\n",
    "@acset_type 3DShape(Sch3DShape)"
   ]
  },
  {
   "cell_type": "markdown",
   "id": "9928e53b",
   "metadata": {},
   "source": [
    "For instance, using DPO rewriting, we could model the action of opening or closing the top of the cube. This operation would involve redefining the relationships between the Faces and Edges objects to \"remove\" the connections that form the top face. Similarly, unfolding the cube into a flat layout would radically alter the connections between Faces, Edges, and Vertices to represent the cube in an unfolded state. Such transformations are powerful for visualizing and reasoning about the structural possibilities of objects in three-dimensional space.\n",
    "\n",
    "Let us say we want to have a cube represent a box with a birthday cake in it. When we deliver the cake to a friend, it starts off as closed. We can say that it's closed by explaining how the faces, edges, and vertices are defined relative to one another. In a cube, there are exactly six faces, which we can call `f1, f2, f3, f4, f5, f6`. Faces have exactly four edges, which we call the top, bottom, left, and right edges. Edges can also have names, such as `e1, e2, e3, e4, ...`. If we want to say the top of edge of `f1` is `e1`, then we can refer to the schema and express the the following part:\n",
    "\n",
    "```\n",
    "top(f1) == e1\n",
    "```\n",
    "\n",
    "Similarly, we can say the left edge of `f1` is `e2` by saying:\n",
    "\n",
    "```\n",
    "bottom(f1) == e2\n",
    "```\n",
    "\n",
    "Edges, on the other hand, have exactly two vertices, the source and target. This is reminiscent of how we came to understand edges in a graph. The schema for both the Cube and the Graph have two morphisms, `src` and `tgt`, that map `Edge` to `Vertex`. So, if we would like to state what vertices bound the edge, `e1`, we can say  \n",
    "\n",
    "```\n",
    "src(e1) == v1\n",
    "tgt(e1) == v2\n",
    "```\n",
    "\n",
    "### A closed box\n",
    "\n",
    "We can create an instance of a cube, by defining such a $\\mathsf{C}$-Set, where $\\mathsf{C}$ is `Sch3DShape`."
   ]
  },
  {
   "cell_type": "code",
   "execution_count": null,
   "id": "7214c9b5",
   "metadata": {},
   "outputs": [],
   "source": [
    "closedCube = @acset_colim ySch3DShape begin\n",
    "  (f1, f2, f3, f4, f5, f6)::Face\n",
    "  (e1, e2, e3, e4, e5, e6, e7, e8, e9, e10, e11, e12)::Edge\n",
    "  (v1, v2, v3, v4, v5, v6, v7, v8)::Vertex\n",
    "\n",
    "  top(f1) == e1; right(f1) == e4; bottom(f1) == e3; left(f1) == e2\n",
    "  top(f2) == e8; right(f2) == e7; bottom(f2) == e5; left(f2) == e4\n",
    "  top(f3) == e11; right(f3) == e7; bottom(f3) == e6; left(f3) == e10\n",
    "  top(f4) == e12; right(f4) == e10; bottom(f4) == e9; left(f4) == e2\n",
    "  top(f5) == e11; right(f5) == e8; bottofm(f5) == e1; left(f5) == e12\n",
    "  top(f6) == e6; right(f6) == e5; bottom(f6) == e3; left(f6) == e9\n",
    "\n",
    "  src(e1) == v1; tgt(e1) == v2\n",
    "  src(e2) == v1; tgt(e2) == v3\n",
    "  src(e3) == v3; tgt(e3) == v4\n",
    "  src(e4) == v4; tgt(e4) == v2\n",
    "  src(e5) == v4; tgt(e5) == v8\n",
    "  src(e6) == v7; tgt(e6) == v8\n",
    "  src(e7) == v8; tgt(e7) == v6\n",
    "  src(e8) == v6; tgt(e8) == v2\n",
    "  src(e9) == v7; tgt(e9) == v3\n",
    "  src(e10) == v7; tgt(e10) == v5\n",
    "  src(e11) == v6; tgt(e11) == v5\n",
    "  src(e12) == v5; tgt(e12) == v1\n",
    "end"
   ]
  },
  {
   "cell_type": "markdown",
   "id": "c8e2520d",
   "metadata": {},
   "source": [
    "This instance defines a box that looks like Figure ??. \n",
    "\n",
    "**[INSERT FIGURE OF LABELED CUBE]**\n",
    "\n",
    "Now, once we deliver the birthday cake, we want be able to open the box so the birthday celebrant can enjoy their sweet treat. We can model this by designing a DPO rule that opens a face of the box.\n",
    "\n",
    "The `L` part of the rule should represent the condition that must be satisfied in order for the rule to be applied. In this case, we want to be able to open a face that is currently shut. A face is considered shut if it is connected to four other faces by four common edges. We can model this by defining a cube that has these qualities."
   ]
  },
  {
   "cell_type": "code",
   "execution_count": null,
   "id": "29365a45",
   "metadata": {},
   "outputs": [],
   "source": [
    "L = @acset_colim ySch3DShape begin\n",
    "  (face, face1, face2, face3, face4)::Face\n",
    "\n",
    "  top(face) == top(face1)\n",
    "  right(face) == top(face2)\n",
    "  bottom(face) == top(face3)\n",
    "  left(face) == top(face4)\n",
    "end"
   ]
  },
  {
   "cell_type": "markdown",
   "id": "febcae58",
   "metadata": {},
   "source": [
    "The `R` part of the rule should represent the state in which the open face is connected to only one other face by a common edge that acts as the hinge to the open box."
   ]
  },
  {
   "cell_type": "code",
   "execution_count": null,
   "id": "d3212e27",
   "metadata": {},
   "outputs": [],
   "source": [
    "R = @acset_colim ySch3DShape begin\n",
    "  (face, face1)::Face\n",
    "\n",
    "  top(face) == top(face1)\n",
    "end"
   ]
  },
  {
   "cell_type": "markdown",
   "id": "ad3c8d5b",
   "metadata": {},
   "source": [
    "The `K` part tells me that open face and the face that it is attached to are the same. They are also attached by the same edge."
   ]
  },
  {
   "cell_type": "code",
   "execution_count": null,
   "id": "cc618375",
   "metadata": {},
   "outputs": [],
   "source": [
    "K = @acset_colim ySch3DShape begin\n",
    "  (face, face1)::Face\n",
    "\n",
    "  top(face) == top(face1)\n",
    "end\n",
    "l = homomorphisms(K, L)[2]\n",
    "r = ACSetTransformation(K, R, Face=[1, 2], Edge=collect(1:7), Vertex=collect(1:14))\n",
    "rule = Rule{:DPO}(l, r)"
   ]
  },
  {
   "cell_type": "markdown",
   "id": "b5874e99",
   "metadata": {},
   "source": [
    "This rule is helpful, but the problem is that we can use it on _any_ face of the box. This means that we can technically open the box from the bottom, releasing the cake to the floor. We can constrain this by defining a specific match for our DPO rule. \n",
    "\n",
    "```\n",
    "match = homomorphisms(L, closedCube)[1]\n",
    "```\n",
    "\n",
    "##### TODO: Need to figure out how to get the rule to match such that face = face1\n",
    "\n",
    "In summary, DPO rewriting can help us model various configurations of a box by manipulating the data in the `Sch3DShape`-Set.\n",
    "\n",
    "## Example 2: Kitchen World Schema\n",
    "In a more abstract and complex domain, consider the index category, $\\mathsf{C}$, representing the schema for a \"kitchen world.\" In this model, objects include {Food, Egg, Bread, Cheese, BreadSlice, Counter, Kitchenware, Entity}, with morphisms designed to reflect subtype relationships (e.g., Egg, Bread, Cheese, BreadSlice are Food) and spatial relationships (e.g., Counter is on an Entity, Kitchenware is on an Entity, and Food on Entity).\n",
    "\n",
    "If you recall from [Chapter 4](), objects and morphisms in a schema are eventually mapped to sets and functions, respectively, via $\\mathsf{C}$-Set functors. This means that a morphism from Bread to Food says that all elements of Bread are a Food, and likewise, a morphism Food is on an Entity says that all elements of Food are on an Entity. This schema enforces a universal expectation about the types of objects and their arrangements."
   ]
  },
  {
   "cell_type": "code",
   "execution_count": null,
   "id": "86fbba5c",
   "metadata": {},
   "outputs": [],
   "source": [
    "@present SchKitchen(FreeSchema) begin\n",
    "  Entity::Ob\n",
    "\n",
    "  Food::Ob\n",
    "  food_in_on::Hom(Food, Entity)\n",
    "  food_is_entity::Hom(Food, Entity)\n",
    "\n",
    "  Kitchenware::Ob\n",
    "  ware_in_on::Hom(Kitchenware, Entity)\n",
    "  ware_is_entity::Hom(Kitchenware, Entity)\n",
    "\n",
    "  Counter::Ob\n",
    "  counter_is_entity::Hom(Counter, Entity)\n",
    "\n",
    "  BreadLoaf::Ob\n",
    "  bread_loaf_is_food::Hom(BreadLoaf, Food)\n",
    "  BreadSlice::Ob\n",
    "  bread_slice_is_food::Hom(BreadSlice, Food)\n",
    "  Egg::Ob\n",
    "  egg_is_food::Hom(Egg, Food)\n",
    "  Cheese::Ob\n",
    "  cheese_is_food::Hom(Cheese, Food)\n",
    "\n",
    "  Knife::Ob\n",
    "  knife_is_ware::Hom(Knife, Kitchenware)\n",
    "  Plate::Ob\n",
    "  plate_is_ware::Hom(Plate, Kitchenware)\n",
    "end\n",
    "to_graphviz(SchKitchen)\n",
    "\n",
    "@acset_type Kitchen(SchKitchen)\n",
    "\n",
    "yKitchen = yoneda(Kitchen, SchKitchen; cache=make_cache(Kitchen, SchKitchen, \"Kitchen\"))"
   ]
  },
  {
   "cell_type": "markdown",
   "id": "eedcc6ae",
   "metadata": {},
   "source": [
    "DPO rewriting here can model transformations in the kitchen's state, such as changing the arrangement of items. For example, applying a DPO rewrite rule could simulate the action of combining cheese on a bread slice, altering the morphisms to reflect this new arrangement. Another rule might model the process of putting a slice of bread on a place. This example demonstrates the potential of DPO rewriting for simulating and reasoning about the complex interactions and transformations of objects in a defined space.\n",
    "\n",
    "### Put Cheese On Bread\n",
    "Let us take as an example the action of putting cheese on bread. Following the same approach as the previous example, we can define `L`, `R`, and `K` components of this rewrite rule."
   ]
  },
  {
   "cell_type": "code",
   "execution_count": null,
   "id": "0d23b879",
   "metadata": {},
   "outputs": [],
   "source": [
    "put_cheese_on_bread = @migration(SchKitchen, begin\n",
    "  L => @join begin\n",
    "    cheese::Cheese\n",
    "    slice::BreadSlice\n",
    "  end\n",
    "  K => @join begin\n",
    "    cheese::Cheese\n",
    "    slice::BreadSlice\n",
    "  end\n",
    "  R => @join begin\n",
    "    cheese::Cheese\n",
    "    slice::BreadSlice\n",
    "    cheese_is_food(cheese) == bread_slice_is_food(slice)  # become one\n",
    "  end\n",
    "end)\n",
    "put_cheese_on_bread_rule = make_rule(put_cheese_on_bread, yKitchen)"
   ]
  },
  {
   "cell_type": "markdown",
   "id": "1e25dfe2",
   "metadata": {},
   "source": [
    "Note: Relative to our other examples, this schema has substantially more object and morphisms which would require a burdensome amount of syntax to define an `ACSetTransformation` for `l` and `r`. Instead, we can compute the colimit of representables and infer the homomorphism maps, `l` and `r`. This functionality is subsumed in `make_rule()`.\n",
    "\n",
    "As we can see from this rule, we can model the concept of the bread slice and cheese becoming one by sending `cheese` to the same food element as `bread_slice`. This is a knowledge engineering choice which demonstrates the flexibility of DPO-rewriting rules.\n",
    "\n",
    "### Plate Slice\n",
    "\n",
    "We can use the same idea to model a slice of bread being on a plate."
   ]
  },
  {
   "cell_type": "code",
   "execution_count": null,
   "id": "5a770e5d",
   "metadata": {},
   "outputs": [],
   "source": [
    "plate_slice = @migration(SchRule, SchKitchen, begin\n",
    "  L => @join begin\n",
    "    slice::BreadSlice\n",
    "    plate::Plate\n",
    "  end\n",
    "  K => @join begin\n",
    "    slice::BreadSlice\n",
    "    plate::Plate\n",
    "  end\n",
    "  R => @join begin\n",
    "    slice::BreadSlice\n",
    "    plate::Plate\n",
    "    food_in_on(bread_slice_is_food(slice)) == ware_is_entity(plate_is_ware(plate))\n",
    "  end\n",
    "end)\n",
    "plate_slice_rule = make_rule(plate_slice, yKitchen)"
   ]
  },
  {
   "cell_type": "markdown",
   "id": "7d6d069e",
   "metadata": {},
   "source": [
    "In this case, the bread slice and plate are mapped to the same entity. In the case of the bread slice, the function that does this mapping is tied to the `food_in_on` morphism and, in the case of plate, the function that maps it to entity is tied to the `ware_is_entity` morphism. This is effectively saying that the entity that the food is on is the same entity as the plate. \n",
    "\n",
    "#### TODO: Add make_rule to the environment\n",
    "\n",
    "Both examples illustrate the versatility of double-pushout rewriting in modeling transformations across different contexts. From the reconfiguration of physical structures like cubes to the dynamic arrangement of items in a kitchen, DPO rewriting provides a powerful tool for modeling and simulating changes in systems defined using $\\mathsf{C}$-Sets."
   ]
  }
 ],
 "metadata": {
  "header-includes": [
   "\\usepackage{amsmath}"
  ],
  "jupytext": {
   "formats": "md:myst",
   "text_representation": {
    "extension": ".md",
    "format_name": "myst"
   }
  },
  "kernelspec": {
   "display_name": "Julia 1.10",
   "language": "julia",
   "name": "julia-1.10"
  },
  "source_map": [
   13,
   24,
   40,
   67,
   93,
   103,
   112,
   116,
   122,
   126,
   135,
   152,
   186,
   193,
   210,
   220,
   237
  ]
 },
 "nbformat": 4,
 "nbformat_minor": 5
}