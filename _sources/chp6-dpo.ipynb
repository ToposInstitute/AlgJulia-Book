{
 "cells": [
  {
   "cell_type": "markdown",
   "id": "b554c3cd",
   "metadata": {},
   "source": [
    "# Chapter 6: Cut-Copy-Glue Graphs"
   ]
  }
 ],
 "metadata": {
  "jupytext": {
   "formats": "md:myst",
   "text_representation": {
    "extension": ".md",
    "format_name": "myst"
   }
  },
  "kernelspec": {
   "display_name": "Julia 1.10",
   "language": "julia",
   "name": "julia-1.10"
  },
  "source_map": [
   11
  ]
 },
 "nbformat": 4,
 "nbformat_minor": 5
}