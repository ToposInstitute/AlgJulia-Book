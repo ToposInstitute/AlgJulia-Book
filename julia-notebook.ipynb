{
 "cells": [
  {
   "cell_type": "markdown",
   "metadata": {},
   "source": [
    "# How to run live code?\n",
    "\n",
    "There is a lot more that you can do with outputs (such as including interactive outputs)\n",
    "with your book. For more information about this, see [the Jupyter Book documentation](https://jupyterbook.org)"
   ]
  },
  {
   "cell_type": "markdown",
   "metadata": {},
   "source": [
    "<script type=\"text/x-thebe-config\">\n",
    "    {\n",
    "        requestKernel: true,\n",
    "        binderOptions: {\n",
    "            repo: \"ToposInstitute/AlgJulia-Book-Binder\",\n",
    "            ref: \"main\",\n",
    "        },\n",
    "        codeMirrorConfig: {\n",
    "            theme: \"abcdef\",\n",
    "            mode: \"julia\"\n",
    "\n",
    "        },\n",
    "        kernelOptions: {\n",
    "            name: \"julia\",\n",
    "            path: \"./interactive\"\n",
    "        },\n",
    "        predefinedOutput: true\n",
    "    }\n",
    "</script>"
   ]
  },
  {
   "cell_type": "code",
   "execution_count": null,
   "metadata": {},
   "outputs": [],
   "source": [
    "my_hidden_variable = \"wow, it worked!\"\n",
    "print(my_hidden_variable)"
   ]
  }
 ],
 "metadata": {
  "kernelspec": {
   "display_name": "Julia 1.9.3",
   "language": "julia",
   "name": "julia-1.9"
  },
  "language_info": {
   "file_extension": ".jl",
   "mimetype": "application/julia",
   "name": "julia",
   "version": "1.9.3"
  }
 },
 "nbformat": 4,
 "nbformat_minor": 2
}
